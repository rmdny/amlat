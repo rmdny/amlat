{
  "nbformat": 4,
  "nbformat_minor": 0,
  "metadata": {
    "colab": {
      "name": "Copy of CARTEFINALE.ipynb",
      "provenance": [],
      "collapsed_sections": [],
      "authorship_tag": "ABX9TyMf12mJPStri2oDuCfBijYA",
      "include_colab_link": true
    },
    "kernelspec": {
      "name": "python3",
      "display_name": "Python 3"
    },
    "language_info": {
      "name": "python"
    }
  },
  "cells": [
    {
      "cell_type": "markdown",
      "metadata": {
        "id": "view-in-github",
        "colab_type": "text"
      },
      "source": [
        "<a href=\"https://colab.research.google.com/github/rmdny/amlat/blob/main/FINAL_of_CARTEFINALE.ipynb\" target=\"_parent\"><img src=\"https://colab.research.google.com/assets/colab-badge.svg\" alt=\"Open In Colab\"/></a>"
      ]
    },
    {
      "cell_type": "code",
      "metadata": {
        "id": "cQ9H5x4oB6qn"
      },
      "source": [
        "import requests\n",
        "\n",
        "import plotly.express as px\n",
        "import pandas as pd\n",
        "import plotly.graph_objects as go\n",
        "\n"
      ],
      "execution_count": 41,
      "outputs": []
    },
    {
      "cell_type": "code",
      "metadata": {
        "colab": {
          "base_uri": "https://localhost:8080/"
        },
        "id": "68B_YL0ZDh8p",
        "outputId": "d5802d3e-a93a-44ac-896c-f66c81c1255f"
      },
      "source": [
        "from google.colab import drive\n",
        "drive.mount(\"/content/drive\")"
      ],
      "execution_count": 42,
      "outputs": [
        {
          "output_type": "stream",
          "text": [
            "Drive already mounted at /content/drive; to attempt to forcibly remount, call drive.mount(\"/content/drive\", force_remount=True).\n"
          ],
          "name": "stdout"
        }
      ]
    },
    {
      "cell_type": "code",
      "metadata": {
        "colab": {
          "base_uri": "https://localhost:8080/"
        },
        "id": "_QioGaMEEPUw",
        "outputId": "8c5e56b8-752b-43cc-91b3-86999e50dfb1"
      },
      "source": [
        "!ls "
      ],
      "execution_count": 43,
      "outputs": [
        {
          "output_type": "stream",
          "text": [
            "drive  sample_data\n"
          ],
          "name": "stdout"
        }
      ]
    },
    {
      "cell_type": "code",
      "metadata": {
        "colab": {
          "base_uri": "https://localhost:8080/"
        },
        "id": "ZMdXpnCOES86",
        "outputId": "389f9829-c0eb-46db-e5ec-c1bb6d140b1f"
      },
      "source": [
        "data = pd.read_csv('/content/drive/My Drive/amlat/amlaat3.csv')\n",
        "data.head"
      ],
      "execution_count": 44,
      "outputs": [
        {
          "output_type": "execute_result",
          "data": {
            "text/plain": [
              "<bound method NDFrame.head of          Pays   Latitude  Longitude  Taux de criminalite\n",
              "0   Venezuela   6.423750 -66.589730                84.49\n",
              "1      Bresil -14.235004 -51.925280                68.88\n",
              "2       Perou  -9.189967 -75.015152                68.15\n",
              "3      Guyane   3.933889 -53.125782                67.66\n",
              "4   Argentine -38.416097 -63.616672                61.77\n",
              "..        ...        ...        ...                  ...\n",
              "94   Finlande  61.924110  25.748151                23.32\n",
              "95    Norvège  60.472024   8.468946                35.43\n",
              "96     Island  64.963051 -19.020835                23.36\n",
              "97   Moldavie  47.411631  28.369885                44.98\n",
              "98    Turquie  38.961803  35.243322                39.49\n",
              "\n",
              "[99 rows x 4 columns]>"
            ]
          },
          "metadata": {
            "tags": []
          },
          "execution_count": 44
        }
      ]
    },
    {
      "cell_type": "code",
      "metadata": {
        "colab": {
          "base_uri": "https://localhost:8080/"
        },
        "id": "vCGi-SonEYBN",
        "outputId": "cd8d6e89-fbeb-4fbb-b311-6bd98d24b558"
      },
      "source": [
        "data = pd.read_csv('/content/drive/My Drive/amlat/amlaat3.csv')\n",
        "df = data.loc[:, (\"Pays\", \"Latitude\", \"Longitude\", \"Taux de criminalite\")]\n",
        "df.info()"
      ],
      "execution_count": 45,
      "outputs": [
        {
          "output_type": "stream",
          "text": [
            "<class 'pandas.core.frame.DataFrame'>\n",
            "RangeIndex: 99 entries, 0 to 98\n",
            "Data columns (total 4 columns):\n",
            " #   Column               Non-Null Count  Dtype  \n",
            "---  ------               --------------  -----  \n",
            " 0   Pays                 99 non-null     object \n",
            " 1   Latitude             99 non-null     float64\n",
            " 2   Longitude            99 non-null     float64\n",
            " 3   Taux de criminalite  99 non-null     float64\n",
            "dtypes: float64(3), object(1)\n",
            "memory usage: 3.2+ KB\n"
          ],
          "name": "stdout"
        }
      ]
    },
    {
      "cell_type": "code",
      "metadata": {
        "id": "doPN0NRsEyDK"
      },
      "source": [
        "df = df.dropna(axis=0, subset=['Latitude'])\n",
        "df = df.fillna(0)"
      ],
      "execution_count": 46,
      "outputs": []
    },
    {
      "cell_type": "code",
      "metadata": {
        "id": "MOB4DaE9FC4j",
        "colab": {
          "base_uri": "https://localhost:8080/",
          "height": 542
        },
        "outputId": "f24095e4-97d3-452c-9669-228cb6cdcf2f"
      },
      "source": [
        "df = data.loc[:, (\"Pays\",\"Latitude\", \"Longitude\",\"Taux de criminalite\")];\n",
        "\n",
        "fig = px.scatter_mapbox(df,\n",
        "                        lat=\"Latitude\",\n",
        "                        lon=\"Longitude\",\n",
        "                        color=\"Taux de criminalite\",\n",
        "                        size=\"Taux de criminalite\",\n",
        "                        center={\"lat\": -14.235, \"lon\": -51.92528},\n",
        "                    \n",
        "                        color_continuous_scale=px.colors.sequential.Jet,\n",
        "                        size_max=30,\n",
        "                        zoom=1,\n",
        "                        hover_data=[\"Pays\"]\n",
        "                        )\n",
        "fig.update_layout(mapbox_accesstoken='pk.eyJ1Ijoicm1kbnkiLCJhIjoiY2tvZ3V0MzJhMTAwbDJ1cjBsMTc3OTZwYyJ9.qFoh_QVQsmbqdqSywdC3Ww')\n",
        "fig.show()"
      ],
      "execution_count": 47,
      "outputs": [
        {
          "output_type": "display_data",
          "data": {
            "text/html": [
              "<html>\n",
              "<head><meta charset=\"utf-8\" /></head>\n",
              "<body>\n",
              "    <div>\n",
              "            <script src=\"https://cdnjs.cloudflare.com/ajax/libs/mathjax/2.7.5/MathJax.js?config=TeX-AMS-MML_SVG\"></script><script type=\"text/javascript\">if (window.MathJax) {MathJax.Hub.Config({SVG: {font: \"STIX-Web\"}});}</script>\n",
              "                <script type=\"text/javascript\">window.PlotlyConfig = {MathJaxConfig: 'local'};</script>\n",
              "        <script src=\"https://cdn.plot.ly/plotly-latest.min.js\"></script>    \n",
              "            <div id=\"39162656-e50e-40fa-974b-56da0b8fdcb4\" class=\"plotly-graph-div\" style=\"height:525px; width:100%;\"></div>\n",
              "            <script type=\"text/javascript\">\n",
              "                \n",
              "                    window.PLOTLYENV=window.PLOTLYENV || {};\n",
              "                    \n",
              "                if (document.getElementById(\"39162656-e50e-40fa-974b-56da0b8fdcb4\")) {\n",
              "                    Plotly.newPlot(\n",
              "                        '39162656-e50e-40fa-974b-56da0b8fdcb4',\n",
              "                        [{\"customdata\": [[\"Venezuela\"], [\"Bresil\"], [\"Perou\"], [\"Guyane\"], [\"Argentine\"], [\"Colombie\"], [\"Uruguay\"], [\"Bolivie\"], [\"Equateur\"], [\"Paraguay\"], [\"Chili\"], [\"Honduras\"], [\"Trinite\"], [\"Salvador\"], [\"Jama\\u00efque\"], [\"Porto Rico\"], [\"Bahamas\"], [\"Rep Dom\"], [\"Guatemala\"], [\"Costa Rica\"], [\"Mexique\"], [\"Bolivie\"], [\"Etats Unis\"], [\"Panama\"], [\"Nicaragua\"], [\"Canada\"], [\"Afr du Sud\"], [\"Namibie\"], [\"Angola\"], [\"Nigeria\"], [\"Libye\"], [\"Kenya\"], [\"Tanzanie\"], [\"Somalie\"], [\"Zimbabwe\"], [\"Botswana\"], [\"Algerie\"], [\"Ethiopie\"], [\"Ghana\"], [\"Maroc\"], [\"Maurice\"], [\"Egypte\"], [\"Tunisie\"], [\"Papouasie\"], [\"Fidji\"], [\"Australie\"], [\"Nouvelle-Zelande\"], [\"China\"], [\"Japan\"], [\"Mongolia\"], [\"Russia\"], [\"Thailand\"], [\"Philippines\"], [\"Indonesia\"], [\"Malaysia\"], [\"India\"], [\"Kazakhstan\"], [\"Pakistan\"], [\"Nepal\"], [\"Iran\"], [\"Oman\"], [\"Saudi Arabia\"], [\"Iraq\"], [\"Portugal\"], [\"Espagne\"], [\"France\"], [\"Italie\"], [\"Suisse\"], [\"Belgique\"], [\"Royaume-Unis\"], [\"Ireland\"], [\"Pays-Bas\"], [\"Allemagne\"], [\"Danemark\"], [\"Croatie\"], [\"Slovenie\"], [\"Autriche\"], [\"Hongrie\"], [\"R\\u00e9publique Tcheque\"], [\"Pologne\"], [\"Slovaquie\"], [\"Serbie\"], [\"Bosnie\"], [\"Montenegro\"], [\"Albanie\"], [\"Gr\\u00e8ce\"], [\"Bulgarie\"], [\"Roumanie\"], [\"Ukraine\"], [\"Bi\\u00e9lorussie\"], [\"Lituanie\"], [\"Lettonie\"], [\"Estonie\"], [\"Su\\u00e8de\"], [\"Finlande\"], [\"Norv\\u00e8ge\"], [\"Island\"], [\"Moldavie\"], [\"Turquie\"]], \"hoverlabel\": {\"namelength\": 0}, \"hovertemplate\": \"Taux de criminalite=%{marker.color}<br>Pays=%{customdata[0]}<br>Latitude=%{lat}<br>Longitude=%{lon}\", \"lat\": [6.42375, -14.235004, -9.189967, 3.9338889999999997, -38.416097, 4.570868, -32.522779, -16.290154, -1.8312389999999998, -23.442503, -35.675146999999996, 15.199998999999998, 10.691803, 13.794185, 18.109581, 18.220833, 25.03428, 18.735692999999998, 15.783470999999999, 9.748917, 23.634501, -16.290154, 37.09024, 8.537981, 12.865416, 56.130366, -30.559482, -22.957639999999998, -11.202691999999999, 9.081999, 26.3351, -0.023559, -6.369028, 5.152149, -19.015438, -22.328474, 28.033886, 9.145, 7.946527000000001, 31.791702, -20.348404000000002, 26.820553000000004, 33.886917, -6.314993, -16.578193, -25.274398, -40.900557, 35.86166, 36.204824, 46.862496, 61.52401, 15.870032, 12.879721, -0.789275, 4.210184, 20.593684, 48.019573, 30.375321000000003, 28.394857000000002, 32.427908, 21.512583, 23.885942, 33.223191, 39.399871999999995, 40.463667, 46.227638, 41.87194, 46.818188, 50.503887, 55.378051, 53.41291, 52.132633, 51.165690999999995, 56.26392, 45.1, 46.151241, 47.516231, 47.162494, 49.817492, 51.919438, 48.669026, 44.016521000000004, 43.915886, 42.708678000000006, 41.153332, 39.074208, 42.733883, 45.943160999999996, 48.379433, 53.709807, 55.169438, 56.879635, 58.595271999999994, 60.128161, 61.92411, 60.472024, 64.96305100000001, 47.411631, 38.961803], \"legendgroup\": \"\", \"lon\": [-66.58973, -51.92528, -75.015152, -53.125781999999994, -63.616671999999994, -74.297333, -55.765834999999996, -63.588653, -78.183406, -58.44383199999999, -71.542969, -86.241905, -61.222503, -88.89653, -77.297508, -66.590149, -77.39628, -70.162651, -90.23075899999999, -83.753428, -102.552784, -63.588653, -95.712891, -80.782127, -85.207229, -106.34677099999999, 22.937506, 18.49041, 17.873887, 8.675277000000001, 17.228331, 37.906193, 34.888822, 46.199616, 29.154857, 24.684866, 1.6596259999999998, 40.489672999999996, -1.0231940000000002, -7.09262, 57.552152, 30.802497999999996, 9.537499, 143.95555, 179.414413, 133.775136, 174.88597099999998, 104.195397, 138.252924, 103.84665600000001, 105.31875600000001, 100.992541, 121.77401699999999, 113.921327, 101.97576600000001, 78.96288, 66.923684, 69.345116, 84.12400799999999, 53.68804599999999, 55.923255000000005, 45.079162, 43.679291, -8.224454, -3.7492199999999998, 2.213749, 12.56738, 8.227511999999999, 4.469936, -3.435973, -8.243889999999999, 5.291266, 10.451526, 9.501785, 15.2, 14.995463, 14.550072, 19.503304, 15.472961999999999, 19.145135999999997, 19.699023999999998, 21.005859, 17.679076000000002, 19.37439, 20.168331, 21.824312, 25.48583, 24.96676, 31.16558, 27.953389, 23.881275, 24.603189, 25.013607, 18.643501, 25.748151, 8.468946, -19.020835, 28.369884999999996, 35.243322], \"marker\": {\"color\": [84.49, 68.88, 68.15, 67.66, 61.77, 54.79, 53.81, 52.93, 50.9, 49.6, 45.23, 76.11, 73.19, 67.96, 66.04, 65.63, 62.86, 61.16, 57.83, 56.33, 53.97, 52.93, 47.2, 47.19, 44.44, 39.67, 77.49, 67.21, 64.97, 63.77, 62.19, 61.66, 58.95, 58.5, 57.47, 53.49, 49.81, 49.21, 48.97, 48.69, 47.33, 46.92, 41.88, 81.83, 58.92, 41.36, 40.93, 31.83, 20.66, 57.97, 41.12, 40.48, 42.16, 45.84, 58.84, 43.32, 62.02, 44.08, 34.56, 49.25, 20.79, 26.18, 47.78, 29.63, 31.96, 46.79, 44.26, 21.6, 43.98, 43.71, 45.43, 27.62, 34.81, 25.1, 24.71, 21.07, 23.73, 35.08, 25.52, 28.5, 29.22, 37.41, 43.03, 41.18, 39.52, 40.32, 38.5, 27.64, 48.85, 24.99, 33.06, 36.96, 23.14, 47.07, 23.32, 35.43, 23.36, 44.98, 39.49], \"coloraxis\": \"coloraxis\", \"size\": [84.49, 68.88, 68.15, 67.66, 61.77, 54.79, 53.81, 52.93, 50.9, 49.6, 45.23, 76.11, 73.19, 67.96, 66.04, 65.63, 62.86, 61.16, 57.83, 56.33, 53.97, 52.93, 47.2, 47.19, 44.44, 39.67, 77.49, 67.21, 64.97, 63.77, 62.19, 61.66, 58.95, 58.5, 57.47, 53.49, 49.81, 49.21, 48.97, 48.69, 47.33, 46.92, 41.88, 81.83, 58.92, 41.36, 40.93, 31.83, 20.66, 57.97, 41.12, 40.48, 42.16, 45.84, 58.84, 43.32, 62.02, 44.08, 34.56, 49.25, 20.79, 26.18, 47.78, 29.63, 31.96, 46.79, 44.26, 21.6, 43.98, 43.71, 45.43, 27.62, 34.81, 25.1, 24.71, 21.07, 23.73, 35.08, 25.52, 28.5, 29.22, 37.41, 43.03, 41.18, 39.52, 40.32, 38.5, 27.64, 48.85, 24.99, 33.06, 36.96, 23.14, 47.07, 23.32, 35.43, 23.36, 44.98, 39.49], \"sizemode\": \"area\", \"sizeref\": 0.09387777777777777}, \"mode\": \"markers\", \"name\": \"\", \"showlegend\": false, \"subplot\": \"mapbox\", \"type\": \"scattermapbox\"}],\n",
              "                        {\"coloraxis\": {\"colorbar\": {\"title\": {\"text\": \"Taux de criminalite\"}}, \"colorscale\": [[0.0, \"rgb(0,0,131)\"], [0.2, \"rgb(0,60,170)\"], [0.4, \"rgb(5,255,255)\"], [0.6, \"rgb(255,255,0)\"], [0.8, \"rgb(250,0,0)\"], [1.0, \"rgb(128,0,0)\"]]}, \"legend\": {\"itemsizing\": \"constant\", \"tracegroupgap\": 0}, \"mapbox\": {\"accesstoken\": \"pk.eyJ1Ijoicm1kbnkiLCJhIjoiY2tvZ3V0MzJhMTAwbDJ1cjBsMTc3OTZwYyJ9.qFoh_QVQsmbqdqSywdC3Ww\", \"center\": {\"lat\": -14.235, \"lon\": -51.92528}, \"domain\": {\"x\": [0.0, 1.0], \"y\": [0.0, 1.0]}, \"zoom\": 1}, \"margin\": {\"t\": 60}, \"template\": {\"data\": {\"bar\": [{\"error_x\": {\"color\": \"#2a3f5f\"}, \"error_y\": {\"color\": \"#2a3f5f\"}, \"marker\": {\"line\": {\"color\": \"#E5ECF6\", \"width\": 0.5}}, \"type\": \"bar\"}], \"barpolar\": [{\"marker\": {\"line\": {\"color\": \"#E5ECF6\", \"width\": 0.5}}, \"type\": \"barpolar\"}], \"carpet\": [{\"aaxis\": {\"endlinecolor\": \"#2a3f5f\", \"gridcolor\": \"white\", \"linecolor\": \"white\", \"minorgridcolor\": \"white\", \"startlinecolor\": \"#2a3f5f\"}, \"baxis\": {\"endlinecolor\": \"#2a3f5f\", \"gridcolor\": \"white\", \"linecolor\": \"white\", \"minorgridcolor\": \"white\", \"startlinecolor\": \"#2a3f5f\"}, \"type\": \"carpet\"}], \"choropleth\": [{\"colorbar\": {\"outlinewidth\": 0, \"ticks\": \"\"}, \"type\": \"choropleth\"}], \"contour\": [{\"colorbar\": {\"outlinewidth\": 0, \"ticks\": \"\"}, \"colorscale\": [[0.0, \"#0d0887\"], [0.1111111111111111, \"#46039f\"], [0.2222222222222222, \"#7201a8\"], [0.3333333333333333, \"#9c179e\"], [0.4444444444444444, \"#bd3786\"], [0.5555555555555556, \"#d8576b\"], [0.6666666666666666, \"#ed7953\"], [0.7777777777777778, \"#fb9f3a\"], [0.8888888888888888, \"#fdca26\"], [1.0, \"#f0f921\"]], \"type\": \"contour\"}], \"contourcarpet\": [{\"colorbar\": {\"outlinewidth\": 0, \"ticks\": \"\"}, \"type\": \"contourcarpet\"}], \"heatmap\": [{\"colorbar\": {\"outlinewidth\": 0, \"ticks\": \"\"}, \"colorscale\": [[0.0, \"#0d0887\"], [0.1111111111111111, \"#46039f\"], [0.2222222222222222, \"#7201a8\"], [0.3333333333333333, \"#9c179e\"], [0.4444444444444444, \"#bd3786\"], [0.5555555555555556, \"#d8576b\"], [0.6666666666666666, \"#ed7953\"], [0.7777777777777778, \"#fb9f3a\"], [0.8888888888888888, \"#fdca26\"], [1.0, \"#f0f921\"]], \"type\": \"heatmap\"}], \"heatmapgl\": [{\"colorbar\": {\"outlinewidth\": 0, \"ticks\": \"\"}, \"colorscale\": [[0.0, \"#0d0887\"], [0.1111111111111111, \"#46039f\"], [0.2222222222222222, \"#7201a8\"], [0.3333333333333333, \"#9c179e\"], [0.4444444444444444, \"#bd3786\"], [0.5555555555555556, \"#d8576b\"], [0.6666666666666666, \"#ed7953\"], [0.7777777777777778, \"#fb9f3a\"], [0.8888888888888888, \"#fdca26\"], [1.0, \"#f0f921\"]], \"type\": \"heatmapgl\"}], \"histogram\": [{\"marker\": {\"colorbar\": {\"outlinewidth\": 0, \"ticks\": \"\"}}, \"type\": \"histogram\"}], \"histogram2d\": [{\"colorbar\": {\"outlinewidth\": 0, \"ticks\": \"\"}, \"colorscale\": [[0.0, \"#0d0887\"], [0.1111111111111111, \"#46039f\"], [0.2222222222222222, \"#7201a8\"], [0.3333333333333333, \"#9c179e\"], [0.4444444444444444, \"#bd3786\"], [0.5555555555555556, \"#d8576b\"], [0.6666666666666666, \"#ed7953\"], [0.7777777777777778, \"#fb9f3a\"], [0.8888888888888888, \"#fdca26\"], [1.0, \"#f0f921\"]], \"type\": \"histogram2d\"}], \"histogram2dcontour\": [{\"colorbar\": {\"outlinewidth\": 0, \"ticks\": \"\"}, \"colorscale\": [[0.0, \"#0d0887\"], [0.1111111111111111, \"#46039f\"], [0.2222222222222222, \"#7201a8\"], [0.3333333333333333, \"#9c179e\"], [0.4444444444444444, \"#bd3786\"], [0.5555555555555556, \"#d8576b\"], [0.6666666666666666, \"#ed7953\"], [0.7777777777777778, \"#fb9f3a\"], [0.8888888888888888, \"#fdca26\"], [1.0, \"#f0f921\"]], \"type\": \"histogram2dcontour\"}], \"mesh3d\": [{\"colorbar\": {\"outlinewidth\": 0, \"ticks\": \"\"}, \"type\": \"mesh3d\"}], \"parcoords\": [{\"line\": {\"colorbar\": {\"outlinewidth\": 0, \"ticks\": \"\"}}, \"type\": \"parcoords\"}], \"pie\": [{\"automargin\": true, \"type\": \"pie\"}], \"scatter\": [{\"marker\": {\"colorbar\": {\"outlinewidth\": 0, \"ticks\": \"\"}}, \"type\": \"scatter\"}], \"scatter3d\": [{\"line\": {\"colorbar\": {\"outlinewidth\": 0, \"ticks\": \"\"}}, \"marker\": {\"colorbar\": {\"outlinewidth\": 0, \"ticks\": \"\"}}, \"type\": \"scatter3d\"}], \"scattercarpet\": [{\"marker\": {\"colorbar\": {\"outlinewidth\": 0, \"ticks\": \"\"}}, \"type\": \"scattercarpet\"}], \"scattergeo\": [{\"marker\": {\"colorbar\": {\"outlinewidth\": 0, \"ticks\": \"\"}}, \"type\": \"scattergeo\"}], \"scattergl\": [{\"marker\": {\"colorbar\": {\"outlinewidth\": 0, \"ticks\": \"\"}}, \"type\": \"scattergl\"}], \"scattermapbox\": [{\"marker\": {\"colorbar\": {\"outlinewidth\": 0, \"ticks\": \"\"}}, \"type\": \"scattermapbox\"}], \"scatterpolar\": [{\"marker\": {\"colorbar\": {\"outlinewidth\": 0, \"ticks\": \"\"}}, \"type\": \"scatterpolar\"}], \"scatterpolargl\": [{\"marker\": {\"colorbar\": {\"outlinewidth\": 0, \"ticks\": \"\"}}, \"type\": \"scatterpolargl\"}], \"scatterternary\": [{\"marker\": {\"colorbar\": {\"outlinewidth\": 0, \"ticks\": \"\"}}, \"type\": \"scatterternary\"}], \"surface\": [{\"colorbar\": {\"outlinewidth\": 0, \"ticks\": \"\"}, \"colorscale\": [[0.0, \"#0d0887\"], [0.1111111111111111, \"#46039f\"], [0.2222222222222222, \"#7201a8\"], [0.3333333333333333, \"#9c179e\"], [0.4444444444444444, \"#bd3786\"], [0.5555555555555556, \"#d8576b\"], [0.6666666666666666, \"#ed7953\"], [0.7777777777777778, \"#fb9f3a\"], [0.8888888888888888, \"#fdca26\"], [1.0, \"#f0f921\"]], \"type\": \"surface\"}], \"table\": [{\"cells\": {\"fill\": {\"color\": \"#EBF0F8\"}, \"line\": {\"color\": \"white\"}}, \"header\": {\"fill\": {\"color\": \"#C8D4E3\"}, \"line\": {\"color\": \"white\"}}, \"type\": \"table\"}]}, \"layout\": {\"annotationdefaults\": {\"arrowcolor\": \"#2a3f5f\", \"arrowhead\": 0, \"arrowwidth\": 1}, \"coloraxis\": {\"colorbar\": {\"outlinewidth\": 0, \"ticks\": \"\"}}, \"colorscale\": {\"diverging\": [[0, \"#8e0152\"], [0.1, \"#c51b7d\"], [0.2, \"#de77ae\"], [0.3, \"#f1b6da\"], [0.4, \"#fde0ef\"], [0.5, \"#f7f7f7\"], [0.6, \"#e6f5d0\"], [0.7, \"#b8e186\"], [0.8, \"#7fbc41\"], [0.9, \"#4d9221\"], [1, \"#276419\"]], \"sequential\": [[0.0, \"#0d0887\"], [0.1111111111111111, \"#46039f\"], [0.2222222222222222, \"#7201a8\"], [0.3333333333333333, \"#9c179e\"], [0.4444444444444444, \"#bd3786\"], [0.5555555555555556, \"#d8576b\"], [0.6666666666666666, \"#ed7953\"], [0.7777777777777778, \"#fb9f3a\"], [0.8888888888888888, \"#fdca26\"], [1.0, \"#f0f921\"]], \"sequentialminus\": [[0.0, \"#0d0887\"], [0.1111111111111111, \"#46039f\"], [0.2222222222222222, \"#7201a8\"], [0.3333333333333333, \"#9c179e\"], [0.4444444444444444, \"#bd3786\"], [0.5555555555555556, \"#d8576b\"], [0.6666666666666666, \"#ed7953\"], [0.7777777777777778, \"#fb9f3a\"], [0.8888888888888888, \"#fdca26\"], [1.0, \"#f0f921\"]]}, \"colorway\": [\"#636efa\", \"#EF553B\", \"#00cc96\", \"#ab63fa\", \"#FFA15A\", \"#19d3f3\", \"#FF6692\", \"#B6E880\", \"#FF97FF\", \"#FECB52\"], \"font\": {\"color\": \"#2a3f5f\"}, \"geo\": {\"bgcolor\": \"white\", \"lakecolor\": \"white\", \"landcolor\": \"#E5ECF6\", \"showlakes\": true, \"showland\": true, \"subunitcolor\": \"white\"}, \"hoverlabel\": {\"align\": \"left\"}, \"hovermode\": \"closest\", \"mapbox\": {\"style\": \"light\"}, \"paper_bgcolor\": \"white\", \"plot_bgcolor\": \"#E5ECF6\", \"polar\": {\"angularaxis\": {\"gridcolor\": \"white\", \"linecolor\": \"white\", \"ticks\": \"\"}, \"bgcolor\": \"#E5ECF6\", \"radialaxis\": {\"gridcolor\": \"white\", \"linecolor\": \"white\", \"ticks\": \"\"}}, \"scene\": {\"xaxis\": {\"backgroundcolor\": \"#E5ECF6\", \"gridcolor\": \"white\", \"gridwidth\": 2, \"linecolor\": \"white\", \"showbackground\": true, \"ticks\": \"\", \"zerolinecolor\": \"white\"}, \"yaxis\": {\"backgroundcolor\": \"#E5ECF6\", \"gridcolor\": \"white\", \"gridwidth\": 2, \"linecolor\": \"white\", \"showbackground\": true, \"ticks\": \"\", \"zerolinecolor\": \"white\"}, \"zaxis\": {\"backgroundcolor\": \"#E5ECF6\", \"gridcolor\": \"white\", \"gridwidth\": 2, \"linecolor\": \"white\", \"showbackground\": true, \"ticks\": \"\", \"zerolinecolor\": \"white\"}}, \"shapedefaults\": {\"line\": {\"color\": \"#2a3f5f\"}}, \"ternary\": {\"aaxis\": {\"gridcolor\": \"white\", \"linecolor\": \"white\", \"ticks\": \"\"}, \"baxis\": {\"gridcolor\": \"white\", \"linecolor\": \"white\", \"ticks\": \"\"}, \"bgcolor\": \"#E5ECF6\", \"caxis\": {\"gridcolor\": \"white\", \"linecolor\": \"white\", \"ticks\": \"\"}}, \"title\": {\"x\": 0.05}, \"xaxis\": {\"automargin\": true, \"gridcolor\": \"white\", \"linecolor\": \"white\", \"ticks\": \"\", \"title\": {\"standoff\": 15}, \"zerolinecolor\": \"white\", \"zerolinewidth\": 2}, \"yaxis\": {\"automargin\": true, \"gridcolor\": \"white\", \"linecolor\": \"white\", \"ticks\": \"\", \"title\": {\"standoff\": 15}, \"zerolinecolor\": \"white\", \"zerolinewidth\": 2}}}},\n",
              "                        {\"responsive\": true}\n",
              "                    ).then(function(){\n",
              "                            \n",
              "var gd = document.getElementById('39162656-e50e-40fa-974b-56da0b8fdcb4');\n",
              "var x = new MutationObserver(function (mutations, observer) {{\n",
              "        var display = window.getComputedStyle(gd).display;\n",
              "        if (!display || display === 'none') {{\n",
              "            console.log([gd, 'removed!']);\n",
              "            Plotly.purge(gd);\n",
              "            observer.disconnect();\n",
              "        }}\n",
              "}});\n",
              "\n",
              "// Listen for the removal of the full notebook cells\n",
              "var notebookContainer = gd.closest('#notebook-container');\n",
              "if (notebookContainer) {{\n",
              "    x.observe(notebookContainer, {childList: true});\n",
              "}}\n",
              "\n",
              "// Listen for the clearing of the current output cell\n",
              "var outputEl = gd.closest('.output');\n",
              "if (outputEl) {{\n",
              "    x.observe(outputEl, {childList: true});\n",
              "}}\n",
              "\n",
              "                        })\n",
              "                };\n",
              "                \n",
              "            </script>\n",
              "        </div>\n",
              "</body>\n",
              "</html>"
            ]
          },
          "metadata": {
            "tags": []
          }
        }
      ]
    },
    {
      "cell_type": "markdown",
      "metadata": {
        "id": "AC8IeCqEixt2"
      },
      "source": [
        "# New Section"
      ]
    },
    {
      "cell_type": "code",
      "metadata": {
        "colab": {
          "base_uri": "https://localhost:8080/",
          "height": 542
        },
        "id": "RBtZj2F7IS8g",
        "outputId": "3cc66b36-0d27-4330-c816-7c891fcfdfb8"
      },
      "source": [
        "import plotly.graph_objects as go\n",
        "\n",
        "import pandas as pd\n",
        "\n",
        "\n",
        "\n",
        "df = df.dropna(axis=0, subset=['Country'])\n",
        "df = df.fillna(0)\n",
        "df['text'] = df['Country']\n",
        "df['Crime'] = df['Crime']\n",
        "df['Crime'] = df['Crime']\n",
        "\n",
        "import plotly.graph_objects as go\n",
        "\n",
        "\n",
        "fig = go.Figure(data=go.Scattergeo(\n",
        "    lon=df['Longitude'],\n",
        "    lat=df['Latitude'],\n",
        "    text=df['text'],\n",
        "    mode='markers',\n",
        "    marker_color=df['Crime'],\n",
        "    marker=dict(\n",
        "        size=df['Crime'],\n",
        "        colorscale='jet',\n",
        "        showscale=True\n",
        "        \n",
        "    )\n",
        "))\n",
        "\n",
        "fig.show()"
      ],
      "execution_count": null,
      "outputs": [
        {
          "output_type": "display_data",
          "data": {
            "text/html": [
              "<html>\n",
              "<head><meta charset=\"utf-8\" /></head>\n",
              "<body>\n",
              "    <div>\n",
              "            <script src=\"https://cdnjs.cloudflare.com/ajax/libs/mathjax/2.7.5/MathJax.js?config=TeX-AMS-MML_SVG\"></script><script type=\"text/javascript\">if (window.MathJax) {MathJax.Hub.Config({SVG: {font: \"STIX-Web\"}});}</script>\n",
              "                <script type=\"text/javascript\">window.PlotlyConfig = {MathJaxConfig: 'local'};</script>\n",
              "        <script src=\"https://cdn.plot.ly/plotly-latest.min.js\"></script>    \n",
              "            <div id=\"a0130a13-1d59-484d-9fee-be22509138f2\" class=\"plotly-graph-div\" style=\"height:525px; width:100%;\"></div>\n",
              "            <script type=\"text/javascript\">\n",
              "                \n",
              "                    window.PLOTLYENV=window.PLOTLYENV || {};\n",
              "                    \n",
              "                if (document.getElementById(\"a0130a13-1d59-484d-9fee-be22509138f2\")) {\n",
              "                    Plotly.newPlot(\n",
              "                        'a0130a13-1d59-484d-9fee-be22509138f2',\n",
              "                        [{\"lat\": [6.42375, -14.235004, -9.189967, 3.9338889999999997, -38.416097, 4.570868, -32.522779, -16.290154, -1.8312389999999998, -23.442503, -35.675146999999996, 15.199998999999998, 10.691803, 13.794185, 18.109581, 18.220833, 25.03428, 18.735692999999998, 15.783470999999999, 9.748917, 23.634501, -16.290154, 37.09024, 8.537981, 12.865416, 56.130366, -30.559482, -22.957639999999998, -11.202691999999999, 9.081999, 26.3351, -0.023559, -6.369028, 5.152149, -19.015438, 35.86166, 36.204824, 46.862496, 61.52401, 15.870032, 12.879721, -0.789275, 4.210184, 20.593684, 48.019573, 30.375321000000003, 28.394857000000002, 32.427908, 21.512583, 23.885942, 33.223191, 39.399871999999995, 40.463667, 46.227638, 41.87194, 46.818188, 50.503887, 55.378051, 53.41291, 52.132633, 51.165690999999995, 56.26392, 45.1, 46.151241, 47.516231, 47.162494, 49.817492, 51.919438, 48.669026, 44.016521000000004, 43.915886, 42.708678000000006, 41.153332, 39.074208, 42.733883, 45.943160999999996, 48.379433, 53.709807, 55.169438, 56.879635, 58.595271999999994, 60.128161, 61.92411, 60.472024, 64.96305100000001, 47.411631, 38.961803], \"lon\": [-66.58973, -51.92528, -75.015152, -53.125781999999994, -63.616671999999994, -74.297333, -55.765834999999996, -63.588653, -78.183406, -58.44383199999999, -71.542969, -86.241905, -61.222503, -88.89653, -77.297508, -66.590149, -77.39628, -70.162651, -90.23075899999999, -83.753428, -102.552784, -63.588653, -95.712891, -80.782127, -85.207229, -106.34677099999999, 22.937506, 18.49041, 17.873887, 8.675277000000001, 17.228331, 37.906193, 34.888822, 46.199616, 29.154857, 104.195397, 138.252924, 103.84665600000001, 105.31875600000001, 100.992541, 121.77401699999999, 113.921327, 101.97576600000001, 78.96288, 66.923684, 69.345116, 84.12400799999999, 53.68804599999999, 55.923255000000005, 45.079162, 43.679291, -8.224454, -3.7492199999999998, 2.213749, 12.56738, 8.227511999999999, 4.469936, -3.435973, -8.243889999999999, 5.291266, 10.451526, 9.501785, 15.2, 14.995463, 14.550072, 19.503304, 15.472961999999999, 19.145135999999997, 19.699023999999998, 21.005859, 17.679076000000002, 19.37439, 20.168331, 21.824312, 25.48583, 24.96676, 31.16558, 27.953389, 23.881275, 24.603189, 25.013607, 18.643501, 25.748151, 8.468946, -19.020835, 28.369884999999996, 35.243322], \"marker\": {\"color\": [84.49, 68.88, 68.15, 67.66, 61.77, 54.79, 53.81, 52.93, 50.9, 49.6, 45.23, 76.11, 73.19, 67.96, 66.04, 65.63, 62.86, 61.16, 57.83, 56.33, 53.97, 52.93, 47.2, 47.19, 44.44, 39.67, 77.49, 67.21, 64.97, 63.77, 62.19, 61.66, 58.95, 58.5, 57.47, 31.83, 20.66, 57.97, 41.12, 40.48, 42.16, 45.84, 58.84, 43.32, 62.02, 44.08, 34.56, 49.25, 20.79, 26.18, 47.78, 29.63, 31.96, 46.79, 44.26, 21.6, 43.98, 43.71, 45.43, 27.62, 34.81, 25.1, 24.71, 21.07, 23.73, 35.08, 25.52, 28.5, 29.22, 37.41, 43.03, 41.18, 39.52, 40.32, 38.5, 27.64, 48.85, 24.99, 33.06, 36.96, 23.14, 47.07, 23.32, 35.43, 23.36, 44.98, 39.49], \"colorscale\": [[0.0, \"rgb(0,0,131)\"], [0.2, \"rgb(0,60,170)\"], [0.4, \"rgb(5,255,255)\"], [0.6, \"rgb(255,255,0)\"], [0.8, \"rgb(250,0,0)\"], [1.0, \"rgb(128,0,0)\"]], \"showscale\": true, \"size\": [84.49, 68.88, 68.15, 67.66, 61.77, 54.79, 53.81, 52.93, 50.9, 49.6, 45.23, 76.11, 73.19, 67.96, 66.04, 65.63, 62.86, 61.16, 57.83, 56.33, 53.97, 52.93, 47.2, 47.19, 44.44, 39.67, 77.49, 67.21, 64.97, 63.77, 62.19, 61.66, 58.95, 58.5, 57.47, 31.83, 20.66, 57.97, 41.12, 40.48, 42.16, 45.84, 58.84, 43.32, 62.02, 44.08, 34.56, 49.25, 20.79, 26.18, 47.78, 29.63, 31.96, 46.79, 44.26, 21.6, 43.98, 43.71, 45.43, 27.62, 34.81, 25.1, 24.71, 21.07, 23.73, 35.08, 25.52, 28.5, 29.22, 37.41, 43.03, 41.18, 39.52, 40.32, 38.5, 27.64, 48.85, 24.99, 33.06, 36.96, 23.14, 47.07, 23.32, 35.43, 23.36, 44.98, 39.49]}, \"mode\": \"markers\", \"text\": [\"Venezuela\", \"Bresil\", \"Perou\", \"Guyane\", \"Argentine\", \"Colombie\", \"Uruguay\", \"Bolivie\", \"Equateur\", \"Paraguay\", \"Chili\", \"Honduras\", \"Trinite\", \"Salvador\", \"Jama\\u00efque\", \"Porto Rico\", \"Bahamas\", \"Rep Dom\", \"Guatemala\", \"Costa Rica\", \"Mexique\", \"Bolivie\", \"Etats Unis\", \"Panama\", \"Nicaragua\", \"Canada\", \"Afr du Sud\", \"Namibie\", \"Angola\", \"Nigeria\", \"Libye\", \"Kenya\", \"Tanzanie\", \"Somalie\", \"Zimbabwe\", \"China\", \"Japan\", \"Mongolia\", \"Russia\", \"Thailand\", \"Philippines\", \"Indonesia\", \"Malaysia\", \"India\", \"Kazakhstan\", \"Pakistan\", \"Nepal\", \"Iran\", \"Oman\", \"Saudi Arabia\", \"Iraq\", \"Portugal\", \"Espagne\", \"France\", \"Italie\", \"Suisse\", \"Belgique\", \"Royaume-Unis\", \"Ireland\", \"Pays-Bas\", \"Allemagne\", \"Danemark\", \"Croatie\", \"Slovenie\", \"Autriche\", \"Hongrie\", \"R\\u00e9publique Tcheque\", \"Pologne\", \"Slovaquie\", \"Serbie\", \"Bosnie\", \"Montenegro\", \"Albanie\", \"Gr\\u00e8ce\", \"Bulgarie\", \"Roumanie\", \"Ukraine\", \"Bi\\u00e9lorussie\", \"Lituanie\", \"Lettonie\", \"Estonie\", \"Su\\u00e8de\", \"Finlande\", \"Norv\\u00e8ge\", \"Island\", \"Moldavie\", \"Turquie\"], \"type\": \"scattergeo\"}],\n",
              "                        {\"template\": {\"data\": {\"bar\": [{\"error_x\": {\"color\": \"#2a3f5f\"}, \"error_y\": {\"color\": \"#2a3f5f\"}, \"marker\": {\"line\": {\"color\": \"#E5ECF6\", \"width\": 0.5}}, \"type\": \"bar\"}], \"barpolar\": [{\"marker\": {\"line\": {\"color\": \"#E5ECF6\", \"width\": 0.5}}, \"type\": \"barpolar\"}], \"carpet\": [{\"aaxis\": {\"endlinecolor\": \"#2a3f5f\", \"gridcolor\": \"white\", \"linecolor\": \"white\", \"minorgridcolor\": \"white\", \"startlinecolor\": \"#2a3f5f\"}, \"baxis\": {\"endlinecolor\": \"#2a3f5f\", \"gridcolor\": \"white\", \"linecolor\": \"white\", \"minorgridcolor\": \"white\", \"startlinecolor\": \"#2a3f5f\"}, \"type\": \"carpet\"}], \"choropleth\": [{\"colorbar\": {\"outlinewidth\": 0, \"ticks\": \"\"}, \"type\": \"choropleth\"}], \"contour\": [{\"colorbar\": {\"outlinewidth\": 0, \"ticks\": \"\"}, \"colorscale\": [[0.0, \"#0d0887\"], [0.1111111111111111, \"#46039f\"], [0.2222222222222222, \"#7201a8\"], [0.3333333333333333, \"#9c179e\"], [0.4444444444444444, \"#bd3786\"], [0.5555555555555556, \"#d8576b\"], [0.6666666666666666, \"#ed7953\"], [0.7777777777777778, \"#fb9f3a\"], [0.8888888888888888, \"#fdca26\"], [1.0, \"#f0f921\"]], \"type\": \"contour\"}], \"contourcarpet\": [{\"colorbar\": {\"outlinewidth\": 0, \"ticks\": \"\"}, \"type\": \"contourcarpet\"}], \"heatmap\": [{\"colorbar\": {\"outlinewidth\": 0, \"ticks\": \"\"}, \"colorscale\": [[0.0, \"#0d0887\"], [0.1111111111111111, \"#46039f\"], [0.2222222222222222, \"#7201a8\"], [0.3333333333333333, \"#9c179e\"], [0.4444444444444444, \"#bd3786\"], [0.5555555555555556, \"#d8576b\"], [0.6666666666666666, \"#ed7953\"], [0.7777777777777778, \"#fb9f3a\"], [0.8888888888888888, \"#fdca26\"], [1.0, \"#f0f921\"]], \"type\": \"heatmap\"}], \"heatmapgl\": [{\"colorbar\": {\"outlinewidth\": 0, \"ticks\": \"\"}, \"colorscale\": [[0.0, \"#0d0887\"], [0.1111111111111111, \"#46039f\"], [0.2222222222222222, \"#7201a8\"], [0.3333333333333333, \"#9c179e\"], [0.4444444444444444, \"#bd3786\"], [0.5555555555555556, \"#d8576b\"], [0.6666666666666666, \"#ed7953\"], [0.7777777777777778, \"#fb9f3a\"], [0.8888888888888888, \"#fdca26\"], [1.0, \"#f0f921\"]], \"type\": \"heatmapgl\"}], \"histogram\": [{\"marker\": {\"colorbar\": {\"outlinewidth\": 0, \"ticks\": \"\"}}, \"type\": \"histogram\"}], \"histogram2d\": [{\"colorbar\": {\"outlinewidth\": 0, \"ticks\": \"\"}, \"colorscale\": [[0.0, \"#0d0887\"], [0.1111111111111111, \"#46039f\"], [0.2222222222222222, \"#7201a8\"], [0.3333333333333333, \"#9c179e\"], [0.4444444444444444, \"#bd3786\"], [0.5555555555555556, \"#d8576b\"], [0.6666666666666666, \"#ed7953\"], [0.7777777777777778, \"#fb9f3a\"], [0.8888888888888888, \"#fdca26\"], [1.0, \"#f0f921\"]], \"type\": \"histogram2d\"}], \"histogram2dcontour\": [{\"colorbar\": {\"outlinewidth\": 0, \"ticks\": \"\"}, \"colorscale\": [[0.0, \"#0d0887\"], [0.1111111111111111, \"#46039f\"], [0.2222222222222222, \"#7201a8\"], [0.3333333333333333, \"#9c179e\"], [0.4444444444444444, \"#bd3786\"], [0.5555555555555556, \"#d8576b\"], [0.6666666666666666, \"#ed7953\"], [0.7777777777777778, \"#fb9f3a\"], [0.8888888888888888, \"#fdca26\"], [1.0, \"#f0f921\"]], \"type\": \"histogram2dcontour\"}], \"mesh3d\": [{\"colorbar\": {\"outlinewidth\": 0, \"ticks\": \"\"}, \"type\": \"mesh3d\"}], \"parcoords\": [{\"line\": {\"colorbar\": {\"outlinewidth\": 0, \"ticks\": \"\"}}, \"type\": \"parcoords\"}], \"pie\": [{\"automargin\": true, \"type\": \"pie\"}], \"scatter\": [{\"marker\": {\"colorbar\": {\"outlinewidth\": 0, \"ticks\": \"\"}}, \"type\": \"scatter\"}], \"scatter3d\": [{\"line\": {\"colorbar\": {\"outlinewidth\": 0, \"ticks\": \"\"}}, \"marker\": {\"colorbar\": {\"outlinewidth\": 0, \"ticks\": \"\"}}, \"type\": \"scatter3d\"}], \"scattercarpet\": [{\"marker\": {\"colorbar\": {\"outlinewidth\": 0, \"ticks\": \"\"}}, \"type\": \"scattercarpet\"}], \"scattergeo\": [{\"marker\": {\"colorbar\": {\"outlinewidth\": 0, \"ticks\": \"\"}}, \"type\": \"scattergeo\"}], \"scattergl\": [{\"marker\": {\"colorbar\": {\"outlinewidth\": 0, \"ticks\": \"\"}}, \"type\": \"scattergl\"}], \"scattermapbox\": [{\"marker\": {\"colorbar\": {\"outlinewidth\": 0, \"ticks\": \"\"}}, \"type\": \"scattermapbox\"}], \"scatterpolar\": [{\"marker\": {\"colorbar\": {\"outlinewidth\": 0, \"ticks\": \"\"}}, \"type\": \"scatterpolar\"}], \"scatterpolargl\": [{\"marker\": {\"colorbar\": {\"outlinewidth\": 0, \"ticks\": \"\"}}, \"type\": \"scatterpolargl\"}], \"scatterternary\": [{\"marker\": {\"colorbar\": {\"outlinewidth\": 0, \"ticks\": \"\"}}, \"type\": \"scatterternary\"}], \"surface\": [{\"colorbar\": {\"outlinewidth\": 0, \"ticks\": \"\"}, \"colorscale\": [[0.0, \"#0d0887\"], [0.1111111111111111, \"#46039f\"], [0.2222222222222222, \"#7201a8\"], [0.3333333333333333, \"#9c179e\"], [0.4444444444444444, \"#bd3786\"], [0.5555555555555556, \"#d8576b\"], [0.6666666666666666, \"#ed7953\"], [0.7777777777777778, \"#fb9f3a\"], [0.8888888888888888, \"#fdca26\"], [1.0, \"#f0f921\"]], \"type\": \"surface\"}], \"table\": [{\"cells\": {\"fill\": {\"color\": \"#EBF0F8\"}, \"line\": {\"color\": \"white\"}}, \"header\": {\"fill\": {\"color\": \"#C8D4E3\"}, \"line\": {\"color\": \"white\"}}, \"type\": \"table\"}]}, \"layout\": {\"annotationdefaults\": {\"arrowcolor\": \"#2a3f5f\", \"arrowhead\": 0, \"arrowwidth\": 1}, \"coloraxis\": {\"colorbar\": {\"outlinewidth\": 0, \"ticks\": \"\"}}, \"colorscale\": {\"diverging\": [[0, \"#8e0152\"], [0.1, \"#c51b7d\"], [0.2, \"#de77ae\"], [0.3, \"#f1b6da\"], [0.4, \"#fde0ef\"], [0.5, \"#f7f7f7\"], [0.6, \"#e6f5d0\"], [0.7, \"#b8e186\"], [0.8, \"#7fbc41\"], [0.9, \"#4d9221\"], [1, \"#276419\"]], \"sequential\": [[0.0, \"#0d0887\"], [0.1111111111111111, \"#46039f\"], [0.2222222222222222, \"#7201a8\"], [0.3333333333333333, \"#9c179e\"], [0.4444444444444444, \"#bd3786\"], [0.5555555555555556, \"#d8576b\"], [0.6666666666666666, \"#ed7953\"], [0.7777777777777778, \"#fb9f3a\"], [0.8888888888888888, \"#fdca26\"], [1.0, \"#f0f921\"]], \"sequentialminus\": [[0.0, \"#0d0887\"], [0.1111111111111111, \"#46039f\"], [0.2222222222222222, \"#7201a8\"], [0.3333333333333333, \"#9c179e\"], [0.4444444444444444, \"#bd3786\"], [0.5555555555555556, \"#d8576b\"], [0.6666666666666666, \"#ed7953\"], [0.7777777777777778, \"#fb9f3a\"], [0.8888888888888888, \"#fdca26\"], [1.0, \"#f0f921\"]]}, \"colorway\": [\"#636efa\", \"#EF553B\", \"#00cc96\", \"#ab63fa\", \"#FFA15A\", \"#19d3f3\", \"#FF6692\", \"#B6E880\", \"#FF97FF\", \"#FECB52\"], \"font\": {\"color\": \"#2a3f5f\"}, \"geo\": {\"bgcolor\": \"white\", \"lakecolor\": \"white\", \"landcolor\": \"#E5ECF6\", \"showlakes\": true, \"showland\": true, \"subunitcolor\": \"white\"}, \"hoverlabel\": {\"align\": \"left\"}, \"hovermode\": \"closest\", \"mapbox\": {\"style\": \"light\"}, \"paper_bgcolor\": \"white\", \"plot_bgcolor\": \"#E5ECF6\", \"polar\": {\"angularaxis\": {\"gridcolor\": \"white\", \"linecolor\": \"white\", \"ticks\": \"\"}, \"bgcolor\": \"#E5ECF6\", \"radialaxis\": {\"gridcolor\": \"white\", \"linecolor\": \"white\", \"ticks\": \"\"}}, \"scene\": {\"xaxis\": {\"backgroundcolor\": \"#E5ECF6\", \"gridcolor\": \"white\", \"gridwidth\": 2, \"linecolor\": \"white\", \"showbackground\": true, \"ticks\": \"\", \"zerolinecolor\": \"white\"}, \"yaxis\": {\"backgroundcolor\": \"#E5ECF6\", \"gridcolor\": \"white\", \"gridwidth\": 2, \"linecolor\": \"white\", \"showbackground\": true, \"ticks\": \"\", \"zerolinecolor\": \"white\"}, \"zaxis\": {\"backgroundcolor\": \"#E5ECF6\", \"gridcolor\": \"white\", \"gridwidth\": 2, \"linecolor\": \"white\", \"showbackground\": true, \"ticks\": \"\", \"zerolinecolor\": \"white\"}}, \"shapedefaults\": {\"line\": {\"color\": \"#2a3f5f\"}}, \"ternary\": {\"aaxis\": {\"gridcolor\": \"white\", \"linecolor\": \"white\", \"ticks\": \"\"}, \"baxis\": {\"gridcolor\": \"white\", \"linecolor\": \"white\", \"ticks\": \"\"}, \"bgcolor\": \"#E5ECF6\", \"caxis\": {\"gridcolor\": \"white\", \"linecolor\": \"white\", \"ticks\": \"\"}}, \"title\": {\"x\": 0.05}, \"xaxis\": {\"automargin\": true, \"gridcolor\": \"white\", \"linecolor\": \"white\", \"ticks\": \"\", \"title\": {\"standoff\": 15}, \"zerolinecolor\": \"white\", \"zerolinewidth\": 2}, \"yaxis\": {\"automargin\": true, \"gridcolor\": \"white\", \"linecolor\": \"white\", \"ticks\": \"\", \"title\": {\"standoff\": 15}, \"zerolinecolor\": \"white\", \"zerolinewidth\": 2}}}},\n",
              "                        {\"responsive\": true}\n",
              "                    ).then(function(){\n",
              "                            \n",
              "var gd = document.getElementById('a0130a13-1d59-484d-9fee-be22509138f2');\n",
              "var x = new MutationObserver(function (mutations, observer) {{\n",
              "        var display = window.getComputedStyle(gd).display;\n",
              "        if (!display || display === 'none') {{\n",
              "            console.log([gd, 'removed!']);\n",
              "            Plotly.purge(gd);\n",
              "            observer.disconnect();\n",
              "        }}\n",
              "}});\n",
              "\n",
              "// Listen for the removal of the full notebook cells\n",
              "var notebookContainer = gd.closest('#notebook-container');\n",
              "if (notebookContainer) {{\n",
              "    x.observe(notebookContainer, {childList: true});\n",
              "}}\n",
              "\n",
              "// Listen for the clearing of the current output cell\n",
              "var outputEl = gd.closest('.output');\n",
              "if (outputEl) {{\n",
              "    x.observe(outputEl, {childList: true});\n",
              "}}\n",
              "\n",
              "                        })\n",
              "                };\n",
              "                \n",
              "            </script>\n",
              "        </div>\n",
              "</body>\n",
              "</html>"
            ]
          },
          "metadata": {
            "tags": []
          }
        }
      ]
    },
    {
      "cell_type": "code",
      "metadata": {
        "id": "BcAfR0RpKx33"
      },
      "source": [
        ""
      ],
      "execution_count": null,
      "outputs": []
    }
  ]
}